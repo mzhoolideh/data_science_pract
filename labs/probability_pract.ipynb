{
 "cells": [
  {
   "cell_type": "code",
   "execution_count": 2,
   "metadata": {},
   "outputs": [],
   "source": [
    "import numpy as np\n",
    "import pandas as pd\n",
    "import scipy\n",
    "import seaborn as sns\n",
    "import matplotlib.pyplot as plt\n",
    "\n",
    "%matplotlib inline"
   ]
  },
  {
   "cell_type": "markdown",
   "metadata": {},
   "source": [
    "## Probability of two fair coin flips that produce exactly two heads\n"
   ]
  },
  {
   "cell_type": "code",
   "execution_count": 21,
   "metadata": {},
   "outputs": [],
   "source": [
    "all_cas = np.random.randint(2, size=(10000,2))\n",
    "two_head = all_cas[(all_cas[:,0] == 1) & (all_cas[:,1] == 1)] "
   ]
  },
  {
   "cell_type": "code",
   "execution_count": 22,
   "metadata": {},
   "outputs": [
    {
     "data": {
      "text/plain": [
       "(2478, 2)"
      ]
     },
     "execution_count": 22,
     "metadata": {},
     "output_type": "execute_result"
    }
   ],
   "source": [
    "two_head.shape"
   ]
  },
  {
   "cell_type": "code",
   "execution_count": 23,
   "metadata": {},
   "outputs": [
    {
     "data": {
      "text/plain": [
       "0.2478"
      ]
     },
     "execution_count": 23,
     "metadata": {},
     "output_type": "execute_result"
    }
   ],
   "source": [
    "two_head_prob = two_head.shape[0]/all_cas.shape[0]\n",
    "two_head_prob"
   ]
  },
  {
   "cell_type": "markdown",
   "metadata": {},
   "source": [
    "## Three fair coin flips produce exactly one head\n"
   ]
  },
  {
   "cell_type": "code",
   "execution_count": 30,
   "metadata": {},
   "outputs": [
    {
     "name": "stdout",
     "output_type": "stream",
     "text": [
      "0.3738684715934131\n"
     ]
    }
   ],
   "source": [
    "ph = np.random.randint(2, size=100000).sum()/100000\n",
    "pt = np.random.randint(2, size=100000).sum()/100000\n",
    "\n",
    "one_head = 3*ph*pt*pt\n",
    "print(one_head)\n"
   ]
  },
  {
   "cell_type": "markdown",
   "metadata": {},
   "source": [
    "## Three biased coin flips with P(H) = 0.6 produce exactly one head"
   ]
  },
  {
   "cell_type": "code",
   "execution_count": 33,
   "metadata": {},
   "outputs": [
    {
     "name": "stdout",
     "output_type": "stream",
     "text": [
      "0.288335926371375\n"
     ]
    }
   ],
   "source": [
    "ph = np.random.choice(2, size=100000, p=[0.4,0.6]).sum()/100000\n",
    "pt = 1 - ph\n",
    "\n",
    "one_head = 3*ph*pt*pt # Look at this! it is the binomial probability!\n",
    "print(one_head)\n"
   ]
  },
  {
   "cell_type": "markdown",
   "metadata": {},
   "source": [
    "## A die rolls an even number\n"
   ]
  },
  {
   "cell_type": "code",
   "execution_count": 39,
   "metadata": {},
   "outputs": [
    {
     "data": {
      "text/plain": [
       "0.4966"
      ]
     },
     "execution_count": 39,
     "metadata": {},
     "output_type": "execute_result"
    }
   ],
   "source": [
    "all_cas = np.random.randint(1, 7, size=10000)\n",
    "filt = all_cas[all_cas%2 == 0]\n",
    "\n",
    "p_even = all_cas[filt].shape[0]/all_cas.shape[0]\n",
    "p_even"
   ]
  },
  {
   "cell_type": "code",
   "execution_count": 38,
   "metadata": {},
   "outputs": [
    {
     "data": {
      "text/plain": [
       "10000"
      ]
     },
     "execution_count": 38,
     "metadata": {},
     "output_type": "execute_result"
    }
   ],
   "source": [
    "all_cas.shape[0]"
   ]
  },
  {
   "cell_type": "markdown",
   "metadata": {},
   "source": [
    "## Two dice roll a double\n"
   ]
  },
  {
   "cell_type": "code",
   "execution_count": 41,
   "metadata": {},
   "outputs": [
    {
     "data": {
      "text/plain": [
       "0.1671"
      ]
     },
     "execution_count": 41,
     "metadata": {},
     "output_type": "execute_result"
    }
   ],
   "source": [
    "all_cas = np.random.randint(1, 7, size=(10000, 2))\n",
    "filt = all_cas[all_cas[:,0] == all_cas[:,1]]\n",
    "\n",
    "p_double = all_cas[filt].shape[0]/all_cas.shape[0]\n",
    "p_double"
   ]
  },
  {
   "cell_type": "markdown",
   "metadata": {},
   "source": [
    "## A fair coin flip produces heads(binomial)"
   ]
  },
  {
   "cell_type": "code",
   "execution_count": 43,
   "metadata": {},
   "outputs": [
    {
     "data": {
      "text/plain": [
       "0.4934"
      ]
     },
     "execution_count": 43,
     "metadata": {},
     "output_type": "execute_result"
    }
   ],
   "source": [
    "np.random.binomial(1, 0.5, size=10000).mean()"
   ]
  },
  {
   "cell_type": "markdown",
   "metadata": {},
   "source": [
    "## Five fair coin flips produce exactly one head"
   ]
  },
  {
   "cell_type": "code",
   "execution_count": 50,
   "metadata": {},
   "outputs": [
    {
     "data": {
      "text/plain": [
       "0.1558"
      ]
     },
     "execution_count": 50,
     "metadata": {},
     "output_type": "execute_result"
    }
   ],
   "source": [
    "(np.random.binomial(5, 0.5, size=10000) == 1).mean()"
   ]
  },
  {
   "cell_type": "markdown",
   "metadata": {},
   "source": [
    "## Ten fair coin flips produce exactly four heads"
   ]
  },
  {
   "cell_type": "code",
   "execution_count": 51,
   "metadata": {},
   "outputs": [
    {
     "data": {
      "text/plain": [
       "0.2086"
      ]
     },
     "execution_count": 51,
     "metadata": {},
     "output_type": "execute_result"
    }
   ],
   "source": [
    "(np.random.binomial(10, 0.5, size=10000) == 4).mean()"
   ]
  },
  {
   "cell_type": "markdown",
   "metadata": {},
   "source": [
    "## Five biased coin flips with P(H) = 0.8 produce exactly five heads\n"
   ]
  },
  {
   "cell_type": "code",
   "execution_count": 52,
   "metadata": {},
   "outputs": [
    {
     "data": {
      "text/plain": [
       "0.3229"
      ]
     },
     "execution_count": 52,
     "metadata": {},
     "output_type": "execute_result"
    }
   ],
   "source": [
    "(np.random.binomial(5, 0.8, size=10000) == 5).mean()"
   ]
  },
  {
   "cell_type": "markdown",
   "metadata": {},
   "source": [
    "## Ten biased coin flips with P(H) = 0.15 produce exactly three heads\n"
   ]
  },
  {
   "cell_type": "code",
   "execution_count": 53,
   "metadata": {},
   "outputs": [
    {
     "data": {
      "text/plain": [
       "0.1323"
      ]
     },
     "execution_count": 53,
     "metadata": {},
     "output_type": "execute_result"
    }
   ],
   "source": [
    "(np.random.binomial(10, 0.15, size=10000) == 3).mean()"
   ]
  },
  {
   "cell_type": "markdown",
   "metadata": {},
   "source": [
    "# Cancer Test Results\n"
   ]
  },
  {
   "cell_type": "code",
   "execution_count": 81,
   "metadata": {},
   "outputs": [
    {
     "data": {
      "text/html": [
       "<div>\n",
       "<style scoped>\n",
       "    .dataframe tbody tr th:only-of-type {\n",
       "        vertical-align: middle;\n",
       "    }\n",
       "\n",
       "    .dataframe tbody tr th {\n",
       "        vertical-align: top;\n",
       "    }\n",
       "\n",
       "    .dataframe thead th {\n",
       "        text-align: right;\n",
       "    }\n",
       "</style>\n",
       "<table border=\"1\" class=\"dataframe\">\n",
       "  <thead>\n",
       "    <tr style=\"text-align: right;\">\n",
       "      <th></th>\n",
       "      <th>patient_id</th>\n",
       "      <th>test_result</th>\n",
       "      <th>has_cancer</th>\n",
       "    </tr>\n",
       "  </thead>\n",
       "  <tbody>\n",
       "    <tr>\n",
       "      <td>0</td>\n",
       "      <td>79452</td>\n",
       "      <td>Negative</td>\n",
       "      <td>False</td>\n",
       "    </tr>\n",
       "    <tr>\n",
       "      <td>1</td>\n",
       "      <td>81667</td>\n",
       "      <td>Positive</td>\n",
       "      <td>True</td>\n",
       "    </tr>\n",
       "    <tr>\n",
       "      <td>2</td>\n",
       "      <td>76297</td>\n",
       "      <td>Negative</td>\n",
       "      <td>False</td>\n",
       "    </tr>\n",
       "    <tr>\n",
       "      <td>3</td>\n",
       "      <td>36593</td>\n",
       "      <td>Negative</td>\n",
       "      <td>False</td>\n",
       "    </tr>\n",
       "    <tr>\n",
       "      <td>4</td>\n",
       "      <td>53717</td>\n",
       "      <td>Negative</td>\n",
       "      <td>False</td>\n",
       "    </tr>\n",
       "  </tbody>\n",
       "</table>\n",
       "</div>"
      ],
      "text/plain": [
       "   patient_id test_result  has_cancer\n",
       "0       79452    Negative       False\n",
       "1       81667    Positive        True\n",
       "2       76297    Negative       False\n",
       "3       36593    Negative       False\n",
       "4       53717    Negative       False"
      ]
     },
     "execution_count": 81,
     "metadata": {},
     "output_type": "execute_result"
    }
   ],
   "source": [
    "cancer_df = pd.read_csv('./cancer_test_data.csv')\n",
    "cancer_df.head()"
   ]
  },
  {
   "cell_type": "code",
   "execution_count": 122,
   "metadata": {},
   "outputs": [
    {
     "data": {
      "text/plain": [
       "2914"
      ]
     },
     "execution_count": 122,
     "metadata": {},
     "output_type": "execute_result"
    }
   ],
   "source": [
    "# How many patients are there in total?\n",
    "\n",
    "num_patient = cancer_df.shape[0]\n",
    "num_patient"
   ]
  },
  {
   "cell_type": "code",
   "execution_count": 109,
   "metadata": {},
   "outputs": [
    {
     "name": "stdout",
     "output_type": "stream",
     "text": [
      "<class 'pandas.core.frame.DataFrame'>\n",
      "RangeIndex: 2914 entries, 0 to 2913\n",
      "Data columns (total 3 columns):\n",
      "patient_id     2914 non-null int64\n",
      "test_result    2914 non-null object\n",
      "has_cancer     2914 non-null bool\n",
      "dtypes: bool(1), int64(1), object(1)\n",
      "memory usage: 48.5+ KB\n"
     ]
    }
   ],
   "source": [
    "cancer_df.info()"
   ]
  },
  {
   "cell_type": "code",
   "execution_count": 114,
   "metadata": {},
   "outputs": [
    {
     "data": {
      "text/plain": [
       "0       0\n",
       "1       1\n",
       "2       0\n",
       "3       0\n",
       "4       0\n",
       "       ..\n",
       "2909    0\n",
       "2910    0\n",
       "2911    0\n",
       "2912    0\n",
       "2913    0\n",
       "Name: has_cancer, Length: 2914, dtype: int64"
      ]
     },
     "execution_count": 114,
     "metadata": {},
     "output_type": "execute_result"
    }
   ],
   "source": [
    "cancer_df.has_cancer.map({True:1, False:0})"
   ]
  },
  {
   "cell_type": "code",
   "execution_count": 129,
   "metadata": {},
   "outputs": [
    {
     "name": "stdout",
     "output_type": "stream",
     "text": [
      "(306, 3)\n"
     ]
    }
   ],
   "source": [
    "# How many patients have cancer?\n",
    "\n",
    "cancer = cancer_df[cancer_df['has_cancer'] == 1]\n",
    "print(cancer.shape)"
   ]
  },
  {
   "cell_type": "code",
   "execution_count": 130,
   "metadata": {},
   "outputs": [
    {
     "name": "stdout",
     "output_type": "stream",
     "text": [
      "(2608, 3)\n"
     ]
    }
   ],
   "source": [
    "# How many patients do not have cancer?\n",
    "\n",
    "non_cancer = cancer_df[cancer_df['has_cancer'] == 0]\n",
    "print(non_cancer.shape)"
   ]
  },
  {
   "cell_type": "code",
   "execution_count": 131,
   "metadata": {},
   "outputs": [
    {
     "data": {
      "text/plain": [
       "0.10501029512697323"
      ]
     },
     "execution_count": 131,
     "metadata": {},
     "output_type": "execute_result"
    }
   ],
   "source": [
    "# What proportion of patients have cancer?\n",
    "\n",
    "prop = cancer.shape[0]/num_patient\n",
    "prop"
   ]
  },
  {
   "cell_type": "code",
   "execution_count": 132,
   "metadata": {},
   "outputs": [
    {
     "data": {
      "text/plain": [
       "0.8949897048730268"
      ]
     },
     "execution_count": 132,
     "metadata": {},
     "output_type": "execute_result"
    }
   ],
   "source": [
    "# What proportion of patients don't have cancer?\n",
    "\n",
    "prop = non_cancer.shape[0]/num_patient\n",
    "prop"
   ]
  },
  {
   "cell_type": "code",
   "execution_count": 136,
   "metadata": {},
   "outputs": [
    {
     "data": {
      "text/plain": [
       "0.9052287581699346"
      ]
     },
     "execution_count": 136,
     "metadata": {},
     "output_type": "execute_result"
    }
   ],
   "source": [
    "# What proportion of patients with cancer test positive?\n",
    "\n",
    "prop = (cancer.test_result == 'Positive').mean()\n",
    "prop"
   ]
  },
  {
   "cell_type": "code",
   "execution_count": 137,
   "metadata": {},
   "outputs": [
    {
     "data": {
      "text/plain": [
       "0.09477124183006536"
      ]
     },
     "execution_count": 137,
     "metadata": {},
     "output_type": "execute_result"
    }
   ],
   "source": [
    "# What proportion of patients with cancer test negative?\n",
    "\n",
    "prop = (cancer.test_result == 'Negative').mean()\n",
    "prop"
   ]
  },
  {
   "cell_type": "code",
   "execution_count": 138,
   "metadata": {},
   "outputs": [
    {
     "data": {
      "text/plain": [
       "0.2036042944785276"
      ]
     },
     "execution_count": 138,
     "metadata": {},
     "output_type": "execute_result"
    }
   ],
   "source": [
    "# What proportion of patients without cancer test positive?\n",
    "\n",
    "prop = (non_cancer.test_result == 'Positive').mean()\n",
    "prop"
   ]
  },
  {
   "cell_type": "code",
   "execution_count": 140,
   "metadata": {},
   "outputs": [
    {
     "data": {
      "text/plain": [
       "0.7963957055214724"
      ]
     },
     "execution_count": 140,
     "metadata": {},
     "output_type": "execute_result"
    }
   ],
   "source": [
    "# What proportion of patients without cancer test negative?\n",
    "\n",
    "prop = (non_cancer.test_result == 'Negative').mean()\n",
    "prop"
   ]
  },
  {
   "cell_type": "code",
   "execution_count": 146,
   "metadata": {},
   "outputs": [
    {
     "name": "stdout",
     "output_type": "stream",
     "text": [
      "0.34282178217821785\n",
      "0.3428217821782178\n",
      "We see a complete consistency between Base formula and our own calculation!\n"
     ]
    }
   ],
   "source": [
    "# Probability a patient who tested positive has cancer, or P(cancer|positive)\n",
    "\n",
    "positive = cancer_df[cancer_df['test_result'] == 'Positive']\n",
    "\n",
    "prop = (positive.has_cancer == True).mean()\n",
    "print(prop)\n",
    "\n",
    "# Lets calculate it from Base rule\n",
    "\n",
    "p_pc = (cancer.test_result == 'Positive').mean()\n",
    "pc = cancer.shape[0]/num_patient\n",
    "pp = positive.shape[0]/num_patient\n",
    "p_cp = p_pc * pc/pp\n",
    "print(p_cp)\n",
    "\n",
    "print(\"We see a complete consistency between Base formula and our own calculation!\")"
   ]
  },
  {
   "cell_type": "code",
   "execution_count": 147,
   "metadata": {},
   "outputs": [
    {
     "name": "stdout",
     "output_type": "stream",
     "text": [
      "0.6571782178217822\n"
     ]
    }
   ],
   "source": [
    "# Probability a patient who tested positive doesn't have cancer, or P(~cancer|positive)\n",
    "\n",
    "prop = (positive.has_cancer == False).mean()\n",
    "print(prop)\n"
   ]
  },
  {
   "cell_type": "code",
   "execution_count": 148,
   "metadata": {},
   "outputs": [
    {
     "name": "stdout",
     "output_type": "stream",
     "text": [
      "0.013770180436847104\n"
     ]
    }
   ],
   "source": [
    "# Probability a patient who tested negative has cancer, or P(cancer|negative)\n",
    "\n",
    "neg = cancer_df[cancer_df['test_result'] == 'Negative']\n",
    "\n",
    "prop = (neg.has_cancer == True).mean()\n",
    "print(prop)"
   ]
  },
  {
   "cell_type": "code",
   "execution_count": 149,
   "metadata": {},
   "outputs": [
    {
     "name": "stdout",
     "output_type": "stream",
     "text": [
      "0.9862298195631529\n"
     ]
    }
   ],
   "source": [
    "# Probability a patient who tested negative doesn't have cancer, or P(~cancer|negative)\n",
    "\n",
    "prop = (neg.has_cancer == False).mean()\n",
    "print(prop)"
   ]
  },
  {
   "cell_type": "markdown",
   "metadata": {},
   "source": [
    "# Sampling Distributions\n",
    "\n",
    "**Below is an array that represents the students we saw in the previous videos, where 1 represents the students that drink coffee, and 0 represents the students that do not drink coffee.**"
   ]
  },
  {
   "cell_type": "code",
   "execution_count": 150,
   "metadata": {},
   "outputs": [
    {
     "data": {
      "text/plain": [
       "array([1, 1, 0, 1, 0, 1, 0, 0, 0, 1, 0, 0, 0, 0, 0, 1, 0, 1, 0, 0, 0])"
      ]
     },
     "execution_count": 150,
     "metadata": {},
     "output_type": "execute_result"
    }
   ],
   "source": [
    "students = np.random.randint(2,size=21)\n",
    "students"
   ]
  },
  {
   "cell_type": "code",
   "execution_count": 152,
   "metadata": {},
   "outputs": [
    {
     "data": {
      "text/plain": [
       "0.4"
      ]
     },
     "execution_count": 152,
     "metadata": {},
     "output_type": "execute_result"
    }
   ],
   "source": [
    "sampe = np.random.choice(students, size=5)\n",
    "sampe.mean()"
   ]
  },
  {
   "cell_type": "code",
   "execution_count": 162,
   "metadata": {},
   "outputs": [],
   "source": [
    "samples = []\n",
    "for _ in range(1000):\n",
    "    sample = np.random.choice(students, size=5)\n",
    "    samples.append(sample.mean())"
   ]
  },
  {
   "cell_type": "code",
   "execution_count": 171,
   "metadata": {
    "scrolled": true
   },
   "outputs": [
    {
     "data": {
      "image/png": "[encoded data removed]",
      "text/plain": [
       "<Figure size 432x288 with 1 Axes>"
      ]
     },
     "metadata": {
      "needs_background": "light"
     },
     "output_type": "display_data"
    }
   ],
   "source": [
    "plt.hist(samples, align='left', bins=10);"
   ]
  },
  {
   "cell_type": "code",
   "execution_count": null,
   "metadata": {},
   "outputs": [],
   "source": []
  }
 ],
 "metadata": {
  "kernelspec": {
   "display_name": "Python 3",
   "language": "python",
   "name": "python3"
  },
  "language_info": {
   "codemirror_mode": {
    "name": "ipython",
    "version": 3
   },
   "file_extension": ".py",
   "mimetype": "text/x-python",
   "name": "python",
   "nbconvert_exporter": "python",
   "pygments_lexer": "ipython3",
   "version": "3.7.4"
  }
 },
 "nbformat": 4,
 "nbformat_minor": 2
}
